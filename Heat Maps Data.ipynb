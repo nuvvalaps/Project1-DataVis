{
 "cells": [
  {
   "cell_type": "code",
   "execution_count": 1,
   "id": "3bc757cb",
   "metadata": {},
   "outputs": [],
   "source": [
    "import pandas as pd\n",
    "import numpy as np\n",
    "import scipy.stats as st\n",
    "import matplotlib.pyplot as plt\n",
    "import gmaps\n",
    "from api_keys import gkey"
   ]
  },
  {
   "cell_type": "code",
   "execution_count": 2,
   "id": "04521987",
   "metadata": {},
   "outputs": [],
   "source": [
    "california_csv = \"clean_data/finalized_california_data.csv\"\n",
    "georgia_csv = \"clean_data/finalized_georgia_data.csv\"\n",
    "\n",
    "california_data = pd.read_csv(california_csv)\n",
    "georgia_data = pd.read_csv(georgia_csv)\n",
    "\n",
    "pd.options.display.max_columns = None"
   ]
  },
  {
   "cell_type": "code",
   "execution_count": 3,
   "id": "c9c160b8",
   "metadata": {},
   "outputs": [],
   "source": [
    "# Dataframes for each state with fewer columns\n",
    "\n",
    "california_heatmap_data = california_data[[\"id\",\"streetAddress\", \"city\",\"state\",\"zipcode\",\"longitude\",\"latitude\", \"pool\", \"price\"]]\n",
    "georgia_heatmap_data = georgia_data[[\"id\",\"streetAddress\", \"city\",\"state\",\"zipcode\",\"longitude\",\"latitude\", \"pool\", \"price\"]]\n",
    "\n"
   ]
  },
  {
   "cell_type": "code",
   "execution_count": 4,
   "id": "2150216a",
   "metadata": {},
   "outputs": [
    {
     "name": "stderr",
     "output_type": "stream",
     "text": [
      "C:\\Users\\mpddr\\.conda\\envs\\PythonData\\lib\\site-packages\\ipykernel_launcher.py:3: SettingWithCopyWarning: \n",
      "A value is trying to be set on a copy of a slice from a DataFrame.\n",
      "Try using .loc[row_indexer,col_indexer] = value instead\n",
      "\n",
      "See the caveats in the documentation: https://pandas.pydata.org/pandas-docs/stable/user_guide/indexing.html#returning-a-view-versus-a-copy\n",
      "  This is separate from the ipykernel package so we can avoid doing imports until\n",
      "C:\\Users\\mpddr\\.conda\\envs\\PythonData\\lib\\site-packages\\ipykernel_launcher.py:4: SettingWithCopyWarning: \n",
      "A value is trying to be set on a copy of a slice from a DataFrame.\n",
      "Try using .loc[row_indexer,col_indexer] = value instead\n",
      "\n",
      "See the caveats in the documentation: https://pandas.pydata.org/pandas-docs/stable/user_guide/indexing.html#returning-a-view-versus-a-copy\n",
      "  after removing the cwd from sys.path.\n"
     ]
    }
   ],
   "source": [
    "# Dataframes for each state with a column that includes full concat address\n",
    "\n",
    "california_heatmap_data[\"fulladdress\"] = california_heatmap_data[\"streetAddress\"] + \", \" + california_heatmap_data[\"city\"] + \", \" + california_heatmap_data[\"state\"] + \" \" + california_heatmap_data[\"zipcode\"].astype(str)\n",
    "georgia_heatmap_data[\"fulladdress\"] = georgia_heatmap_data[\"streetAddress\"] + \", \" + georgia_heatmap_data[\"city\"] + \", \" + georgia_heatmap_data[\"state\"] + \" \" + georgia_heatmap_data[\"zipcode\"].astype(str)\n",
    "\n"
   ]
  },
  {
   "cell_type": "code",
   "execution_count": 20,
   "id": "fa957e7a",
   "metadata": {
    "scrolled": true
   },
   "outputs": [],
   "source": [
    "# Dataframes for each state for outlier homes\n",
    "\n",
    "california_outliers = california_heatmap_data.loc[california_heatmap_data[\"price\"] >= 2300150]\n",
    "georgia_outliers = georgia_heatmap_data.loc[georgia_heatmap_data[\"price\"] >= 887650]\n",
    "\n",
    "\n",
    "california_all_home = california_heatmap_data.loc[california_heatmap_data[\"price\"] >= 5000]\n",
    "georgia_all_home = georgia_heatmap_data.loc[georgia_heatmap_data[\"price\"] >= 5000]\n",
    "\n",
    "\n",
    "california_home_intquart = california_heatmap_data.loc[(california_heatmap_data[\"price\"] >= 549900) & (california_heatmap_data[\"price\"] <= 1250000)]\n",
    "Georgia_home_intquart = georgia_heatmap_data.loc[(georgia_heatmap_data[\"price\"] >= 239900) & (georgia_heatmap_data[\"price\"] <= 499000)]\n",
    "\n",
    "california_home_myc = california_heatmap_data.loc[(california_heatmap_data[\"price\"] >= 250000) \n",
    "                                                  & (california_heatmap_data[\"price\"] <= 400000) \n",
    "                                                  & (california_heatmap_data[\"pool\"] == 1)]\n",
    "Georgia_home_myc = georgia_heatmap_data.loc[(georgia_heatmap_data[\"price\"] >= 250000) \n",
    "                                            & (georgia_heatmap_data[\"price\"] <= 350000)\n",
    "                                           & (georgia_heatmap_data[\"pool\"] == 1)]"
   ]
  },
  {
   "cell_type": "code",
   "execution_count": 21,
   "id": "e519b102",
   "metadata": {},
   "outputs": [],
   "source": [
    "# Dataframes for each state for homes that include pools\n",
    "california_pools = california_heatmap_data.loc[california_heatmap_data[\"pool\"] == 1]\n",
    "georgia_pools = georgia_heatmap_data.loc[georgia_heatmap_data[\"pool\"] == 1]\n",
    "\n",
    "georgia_pools_outl = georgia_outliers.loc[georgia_outliers[\"pool\"] == 1]\n",
    "cali_pools_outl = california_outliers.loc[california_outliers[\"pool\"] == 1]"
   ]
  },
  {
   "cell_type": "code",
   "execution_count": 23,
   "id": "94997b33",
   "metadata": {},
   "outputs": [
    {
     "data": {
      "application/vnd.jupyter.widget-view+json": {
       "model_id": "77060df17a284f358c722d85bc05f711",
       "version_major": 2,
       "version_minor": 0
      },
      "text/plain": [
       "Figure(layout=FigureLayout(height='420px'))"
      ]
     },
     "metadata": {},
     "output_type": "display_data"
    }
   ],
   "source": [
    "# locations = hotel_df[[\"Lat\", \"Lng\"]]\n",
    "# cali_locations = california_outliers [[\"latitude\", \"longitude\"]]\n",
    "# ===================================\n",
    "# georgia_loc_outliers = georgia_outliers [[\"latitude\", \"longitude\"]]\n",
    "# georgia_price_outl = georgia_outliers [\"price\"].astype(float)\n",
    "# =============================\n",
    "\n",
    "# georgia_loc_pools_outl = georgia_pools_outl[[\"latitude\", \"longitude\"]]\n",
    "# fig = gmaps.figure(map_type = 'ROADMAP' )\n",
    "# markers = gmaps.marker_layer(georgia_loc_pools_outl)\n",
    "# fig.add_layer(markers)\n",
    "# ===========================================\n",
    "\n",
    "# cali_loc_pools_outl = cali_pools_outl[[\"latitude\", \"longitude\"]]\n",
    "\n",
    "# fig = gmaps.figure(map_type = 'ROADMAP' )\n",
    "# markers = gmaps.marker_layer(cali_loc_pools_outl)\n",
    "\n",
    "# fig.add_layer(markers)\n",
    "\n",
    "# =======================================================\n",
    "# cali_loc_all_homes = california_all_home[[\"latitude\", \"longitude\"]]\n",
    "\n",
    "# fig = gmaps.figure(map_type = 'ROADMAP' )\n",
    "# markers = gmaps.marker_layer(cali_loc_all_homes)\n",
    "\n",
    "# fig.add_layer(markers)\n",
    "\n",
    "# ======================================================\n",
    "\n",
    "# georgia_loc_all_homes = georgia_all_home[[\"latitude\", \"longitude\"]]\n",
    "\n",
    "# fig = gmaps.figure(map_type = 'ROADMAP' )\n",
    "# markers = gmaps.marker_layer(georgia_loc_all_homes)\n",
    "\n",
    "# fig.add_layer(markers)\n",
    "\n",
    "# ===================================================\n",
    "\n",
    "# cali_loc_interq = california_home_intquart[[\"latitude\", \"longitude\"]]\n",
    "\n",
    "# fig = gmaps.figure(map_type = 'ROADMAP' )\n",
    "# markers = gmaps.marker_layer(cali_loc_interq)\n",
    "\n",
    "# fig.add_layer(markers)\n",
    "# =========================================================\n",
    "\n",
    "# georgia_loc_interq = Georgia_home_intquart[[\"latitude\", \"longitude\"]]\n",
    "\n",
    "# fig = gmaps.figure(map_type = 'ROADMAP' )\n",
    "# markers = gmaps.marker_layer(georgia_loc_interq)\n",
    "\n",
    "# fig.add_layer(markers)\n",
    "\n",
    "# =====================================================\n",
    "\n",
    "# cali_loc_myc = california_home_myc[[\"latitude\", \"longitude\"]]\n",
    "\n",
    "# fig = gmaps.figure(map_type = 'ROADMAP' )\n",
    "# markers = gmaps.marker_layer(cali_loc_myc)\n",
    "\n",
    "# fig.add_layer(markers)\n",
    "\n",
    "# ==========================================================\n",
    "\n",
    "georgia_loc_myc = Georgia_home_myc[[\"latitude\", \"longitude\"]]\n",
    "\n",
    "fig = gmaps.figure(map_type = 'ROADMAP' )\n",
    "markers = gmaps.marker_layer(georgia_loc_myc)\n",
    "\n",
    "fig.add_layer(markers)\n",
    "# ================================================\n",
    "\n",
    "# # #Create and add heat layer \n",
    "# heat_layer_p_outl = gmaps.heatmap_layer(georgia_loc_outliers, weights = georgia_price_outl,\n",
    "#                                dissipating= True, max_intensity= 8000000, \n",
    "#                                        point_radius = 1, gradient = ['white', 'gray'])\n",
    "# fig.add_layer(heat_layer_p_outl)\n",
    "\n",
    "\n",
    "\n",
    "\n",
    "# # Display Map\n",
    "fig"
   ]
  },
  {
   "cell_type": "code",
   "execution_count": null,
   "id": "f4fed498",
   "metadata": {},
   "outputs": [],
   "source": []
  },
  {
   "cell_type": "code",
   "execution_count": null,
   "id": "374c315c",
   "metadata": {},
   "outputs": [],
   "source": []
  }
 ],
 "metadata": {
  "kernelspec": {
   "display_name": "Python 3",
   "language": "python",
   "name": "python3"
  },
  "language_info": {
   "codemirror_mode": {
    "name": "ipython",
    "version": 3
   },
   "file_extension": ".py",
   "mimetype": "text/x-python",
   "name": "python",
   "nbconvert_exporter": "python",
   "pygments_lexer": "ipython3",
   "version": "3.6.10"
  }
 },
 "nbformat": 4,
 "nbformat_minor": 5
}

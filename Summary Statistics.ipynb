{
 "cells": [
  {
   "cell_type": "code",
   "execution_count": 5,
   "id": "ef7be0f4",
   "metadata": {},
   "outputs": [],
   "source": [
    "import pandas as pd\n",
    "import numpy as np\n",
    "import scipy as sp\n",
    "import matplotlib.pyplot as plt\n"
   ]
  },
  {
   "cell_type": "code",
   "execution_count": 2,
   "id": "ad908ac5",
   "metadata": {},
   "outputs": [],
   "source": [
    "california_csv = \"clean_data/finalized_california_data.csv\"\n",
    "georgia_csv = \"clean_data/finalized_georgia_data.csv\"\n",
    "\n",
    "california_data = pd.read_csv(california_csv)\n",
    "georgia_data = pd.read_csv(georgia_csv)\n",
    "\n",
    "pd.options.display.max_columns = None"
   ]
  },
  {
   "cell_type": "code",
   "execution_count": 3,
   "id": "42453785",
   "metadata": {},
   "outputs": [
    {
     "data": {
      "text/plain": [
       "Index(['Unnamed: 0', 'id', 'streetAddress', 'city', 'state', 'zipcode',\n",
       "       'longitude', 'latitude', 'yearBuilt', 'isNewConstruction',\n",
       "       'posted_year', 'posted_month', 'price', 'pricePerSquareFoot',\n",
       "       'bedrooms', 'bathrooms', 'pool', 'spa', 'description'],\n",
       "      dtype='object')"
      ]
     },
     "execution_count": 3,
     "metadata": {},
     "output_type": "execute_result"
    }
   ],
   "source": [
    "california_data.columns"
   ]
  },
  {
   "cell_type": "code",
   "execution_count": 25,
   "id": "96f87d4b",
   "metadata": {},
   "outputs": [
    {
     "data": {
      "text/plain": [
       "0    1979\n",
       "dtype: int64"
      ]
     },
     "execution_count": 25,
     "metadata": {},
     "output_type": "execute_result"
    }
   ],
   "source": [
    "california_new_houses = california_data.loc[california_data[\"isNewConstruction\"] == 1].count()\n",
    "california_average_price = california_data[\"price\"].mean()\n",
    "california_median_price = california_data[\"price\"].median()\n",
    "california_average_price_sqft = california_data[\"pricePerSquareFoot\"].mean()\n",
    "california_median_price_sqft = california_data[\"pricePerSquareFoot\"].median()\n",
    "california_build_mode = california_data[\"yearBuilt\"].mode()\n",
    "\n",
    "\n"
   ]
  },
  {
   "cell_type": "code",
   "execution_count": null,
   "id": "89cadd9e",
   "metadata": {},
   "outputs": [],
   "source": []
  },
  {
   "cell_type": "code",
   "execution_count": null,
   "id": "6c977c13",
   "metadata": {},
   "outputs": [],
   "source": []
  }
 ],
 "metadata": {
  "kernelspec": {
   "display_name": "Python 3",
   "language": "python",
   "name": "python3"
  },
  "language_info": {
   "codemirror_mode": {
    "name": "ipython",
    "version": 3
   },
   "file_extension": ".py",
   "mimetype": "text/x-python",
   "name": "python",
   "nbconvert_exporter": "python",
   "pygments_lexer": "ipython3",
   "version": "3.6.10"
  }
 },
 "nbformat": 4,
 "nbformat_minor": 5
}
